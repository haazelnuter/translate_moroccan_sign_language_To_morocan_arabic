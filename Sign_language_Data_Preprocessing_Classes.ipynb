{
  "cells": [
    {
      "cell_type": "markdown",
      "metadata": {
        "id": "s8wuJWNdV_pO"
      },
      "source": [
        "# **Install depenencies**"
      ]
    },
    {
      "cell_type": "code",
      "execution_count": null,
      "metadata": {
        "id": "X8SW2LSgFvJd",
        "colab": {
          "base_uri": "https://localhost:8080/"
        },
        "outputId": "dc360aff-6a3c-44b9-e16d-2f6f83c0a1fa"
      },
      "outputs": [
        {
          "output_type": "stream",
          "name": "stdout",
          "text": [
            "Looking in indexes: https://pypi.org/simple, https://us-python.pkg.dev/colab-wheels/public/simple/\n",
            "Requirement already satisfied: mediapipe in /usr/local/lib/python3.10/dist-packages (0.10.1)\n",
            "Requirement already satisfied: absl-py in /usr/local/lib/python3.10/dist-packages (from mediapipe) (1.4.0)\n",
            "Requirement already satisfied: attrs>=19.1.0 in /usr/local/lib/python3.10/dist-packages (from mediapipe) (23.1.0)\n",
            "Requirement already satisfied: flatbuffers>=2.0 in /usr/local/lib/python3.10/dist-packages (from mediapipe) (23.3.3)\n",
            "Requirement already satisfied: matplotlib in /usr/local/lib/python3.10/dist-packages (from mediapipe) (3.7.1)\n",
            "Requirement already satisfied: numpy in /usr/local/lib/python3.10/dist-packages (from mediapipe) (1.22.4)\n",
            "Requirement already satisfied: opencv-contrib-python in /usr/local/lib/python3.10/dist-packages (from mediapipe) (4.7.0.72)\n",
            "Requirement already satisfied: protobuf<4,>=3.11 in /usr/local/lib/python3.10/dist-packages (from mediapipe) (3.20.3)\n",
            "Requirement already satisfied: sounddevice>=0.4.4 in /usr/local/lib/python3.10/dist-packages (from mediapipe) (0.4.6)\n",
            "Requirement already satisfied: CFFI>=1.0 in /usr/local/lib/python3.10/dist-packages (from sounddevice>=0.4.4->mediapipe) (1.15.1)\n",
            "Requirement already satisfied: contourpy>=1.0.1 in /usr/local/lib/python3.10/dist-packages (from matplotlib->mediapipe) (1.0.7)\n",
            "Requirement already satisfied: cycler>=0.10 in /usr/local/lib/python3.10/dist-packages (from matplotlib->mediapipe) (0.11.0)\n",
            "Requirement already satisfied: fonttools>=4.22.0 in /usr/local/lib/python3.10/dist-packages (from matplotlib->mediapipe) (4.39.3)\n",
            "Requirement already satisfied: kiwisolver>=1.0.1 in /usr/local/lib/python3.10/dist-packages (from matplotlib->mediapipe) (1.4.4)\n",
            "Requirement already satisfied: packaging>=20.0 in /usr/local/lib/python3.10/dist-packages (from matplotlib->mediapipe) (23.1)\n",
            "Requirement already satisfied: pillow>=6.2.0 in /usr/local/lib/python3.10/dist-packages (from matplotlib->mediapipe) (8.4.0)\n",
            "Requirement already satisfied: pyparsing>=2.3.1 in /usr/local/lib/python3.10/dist-packages (from matplotlib->mediapipe) (3.0.9)\n",
            "Requirement already satisfied: python-dateutil>=2.7 in /usr/local/lib/python3.10/dist-packages (from matplotlib->mediapipe) (2.8.2)\n",
            "Requirement already satisfied: pycparser in /usr/local/lib/python3.10/dist-packages (from CFFI>=1.0->sounddevice>=0.4.4->mediapipe) (2.21)\n",
            "Requirement already satisfied: six>=1.5 in /usr/local/lib/python3.10/dist-packages (from python-dateutil>=2.7->matplotlib->mediapipe) (1.16.0)\n"
          ]
        }
      ],
      "source": [
        "!pip install mediapipe"
      ]
    },
    {
      "cell_type": "markdown",
      "metadata": {
        "id": "wJ_vit2xWFK6"
      },
      "source": [
        "# **definition des fonctions**"
      ]
    },
    {
      "cell_type": "code",
      "execution_count": null,
      "metadata": {
        "id": "ZSeFSIn3sTW2"
      },
      "outputs": [],
      "source": [
        "#détection de caractéristiques dans une image\n",
        "def mediapipe_detection(image, model):\n",
        "    image = cv2.cvtColor(image, cv2.COLOR_BGR2RGB) # COLOR CONVERSION BGR 2 RGB\n",
        "    image.flags.writeable = False                  # Image is no longer writeable\n",
        "    results = model.process(image)                 # Make prediction\n",
        "    image.flags.writeable = True                   # Image is now writeable\n",
        "    image = cv2.cvtColor(image, cv2.COLOR_RGB2BGR) # COLOR COVERSION RGB 2 BGR\n",
        "    return image, results"
      ]
    },
    {
      "cell_type": "code",
      "execution_count": null,
      "metadata": {
        "id": "EsuJNIu5sTAL"
      },
      "outputs": [],
      "source": [
        "#prend les résultats de la détection d'une pose effectuée à l'aide de MediaPipe et extrait certaines valeurs spécifiques des points clés détectés\n",
        "def extract_Values(results):\n",
        "    keypoints = []\n",
        "    # Nose\n",
        "    keypoints.extend([results.pose_landmarks.landmark[0].x, results.pose_landmarks.landmark[0].y])\n",
        "    # Left, Right eye (inner, center, outer)\n",
        "    keypoints.extend([results.pose_landmarks.landmark[1].x, results.pose_landmarks.landmark[1].y])\n",
        "    keypoints.extend([results.pose_landmarks.landmark[2].x, results.pose_landmarks.landmark[2].y])\n",
        "    keypoints.extend([results.pose_landmarks.landmark[3].x, results.pose_landmarks.landmark[3].y])\n",
        "    keypoints.extend([results.pose_landmarks.landmark[4].x, results.pose_landmarks.landmark[4].y])\n",
        "    keypoints.extend([results.pose_landmarks.landmark[5].x, results.pose_landmarks.landmark[5].y])\n",
        "    keypoints.extend([results.pose_landmarks.landmark[6].x, results.pose_landmarks.landmark[6].y])\n",
        "    # Left, Right ear\n",
        "    keypoints.extend([results.pose_landmarks.landmark[7].x, results.pose_landmarks.landmark[7].y])\n",
        "    keypoints.extend([results.pose_landmarks.landmark[8].x, results.pose_landmarks.landmark[8].y])\n",
        "    # Mouth (left, Right)\n",
        "    keypoints.extend([results.pose_landmarks.landmark[9].x, results.pose_landmarks.landmark[9].y])\n",
        "    keypoints.extend([results.pose_landmarks.landmark[10].x, results.pose_landmarks.landmark[10].y])\n",
        "\n",
        "    # Left, Right shoulder\n",
        "    keypoints.extend([results.pose_landmarks.landmark[11].x, results.pose_landmarks.landmark[11].y])\n",
        "    keypoints.extend([results.pose_landmarks.landmark[12].x, results.pose_landmarks.landmark[12].y])\n",
        "    # Left, Right elbow\n",
        "    keypoints.extend([results.pose_landmarks.landmark[13].x, results.pose_landmarks.landmark[13].y])\n",
        "    keypoints.extend([results.pose_landmarks.landmark[14].x, results.pose_landmarks.landmark[14].y])\n",
        "    # Left, Right wrist\n",
        "    keypoints.extend([results.pose_landmarks.landmark[15].x, results.pose_landmarks.landmark[15].y])\n",
        "    keypoints.extend([results.pose_landmarks.landmark[16].x, results.pose_landmarks.landmark[16].y])\n",
        "    # Left, Right hip\n",
        "    keypoints.extend([results.pose_landmarks.landmark[23].x, results.pose_landmarks.landmark[23].y])\n",
        "    keypoints.extend([results.pose_landmarks.landmark[24].x, results.pose_landmarks.landmark[24].y])\n",
        "    # On a 21 land mark on chaque main et chaque landmark est représenté en espace alors on a 21*3 valeurs\n",
        "    lh = np.array([[res.x, res.y] for res in results.left_hand_landmarks.landmark]).flatten() if results.left_hand_landmarks else np.full(21*2, -1)\n",
        "    rh = np.array([[res.x, res.y] for res in results.right_hand_landmarks.landmark]).flatten() if results.right_hand_landmarks else np.full(21*2, -1)\n",
        "    # retourner les 3 listes concaténées\n",
        "    return np.concatenate([keypoints, lh, rh])"
      ]
    },
    {
      "cell_type": "code",
      "execution_count": null,
      "metadata": {
        "id": "pfDHDSub5AYX"
      },
      "outputs": [],
      "source": [
        "def count_frames(video_path):\n",
        "    # Ouvrir la vidéo en utilisant OpenCV\n",
        "    video = cv2.VideoCapture(video_path)\n",
        "\n",
        "    # Obtenir le nombre total de frames dans la vidéo\n",
        "    total_frames = int(video.get(cv2.CAP_PROP_FRAME_COUNT))\n",
        "\n",
        "    # Fermer la vidéo\n",
        "    video.release()\n",
        "\n",
        "    return total_frames"
      ]
    },
    {
      "cell_type": "markdown",
      "metadata": {
        "id": "9P9TdxaZWMl0"
      },
      "source": [
        "# **Extract keyPoints**"
      ]
    },
    {
      "cell_type": "code",
      "execution_count": null,
      "metadata": {
        "id": "mpMcf38bKxM4"
      },
      "outputs": [],
      "source": [
        "import cv2\n",
        "import mediapipe as mp\n",
        "import os\n",
        "import numpy as np\n",
        "import re"
      ]
    },
    {
      "cell_type": "code",
      "execution_count": null,
      "metadata": {
        "id": "Ed0KfgzoIq-W"
      },
      "outputs": [],
      "source": [
        "# drawing deferents détection from holistic model\n",
        "mp_drawing = mp.solutions.drawing_utils\n",
        "# importing holistic model\n",
        "mp_holistic = mp.solutions.holistic"
      ]
    },
    {
      "cell_type": "code",
      "execution_count": null,
      "metadata": {
        "id": "VmtsQ2wCH-zi",
        "colab": {
          "base_uri": "https://localhost:8080/"
        },
        "outputId": "d58faab0-ca46-4a59-bca4-5ae48e12447e"
      },
      "outputs": [
        {
          "output_type": "stream",
          "name": "stdout",
          "text": [
            "Drive already mounted at /content/drive; to attempt to forcibly remount, call drive.mount(\"/content/drive\", force_remount=True).\n"
          ]
        }
      ],
      "source": [
        "from google.colab import drive\n",
        "drive.mount('/content/drive')"
      ]
    },
    {
      "cell_type": "code",
      "execution_count": null,
      "metadata": {
        "id": "3abK6sG_AnrM"
      },
      "outputs": [],
      "source": [
        "#data_new\n",
        "directory_path = r\"/content/drive/MyDrive/sign_language2/new_data/a3tadir\"\n",
        "save_dir = r\"/content/drive/MyDrive/sign_language2/new_data/keypointsClasses/a3tadir\""
      ]
    },
    {
      "cell_type": "code",
      "execution_count": null,
      "metadata": {
        "id": "MT77ZdRvC3sb"
      },
      "outputs": [],
      "source": [
        "# with mp_holistic.Holistic(min_detection_confidence=0.5, min_tracking_confidence=0.5) as holistic:\n",
        "#   for filename in os.listdir(directory_path):\n",
        "#       if filename.endswith(\".mp4\"):\n",
        "#         video_path = os.path.join(directory_path, filename)\n",
        "#         num_frames = count_frames(video_path)\n",
        "#         save_frames = int(num_frames/15)\n",
        "#         for alpha in range(50,100,5):\n",
        "#           cap = cv2.VideoCapture(video_path)\n",
        "#           keypoints_list = []\n",
        "#           nbr,k = 0,0\n",
        "#           while nbr < 15:\n",
        "#             ret, frame = cap.read()\n",
        "#             if not ret:\n",
        "#               keypoints_list.append(np.full(122, -1))\n",
        "#               nbr+=1\n",
        "#             else:\n",
        "#               height, width = frame.shape[:2]\n",
        "#               width = int(width * alpha / 100)\n",
        "#               height = int(height * alpha / 100)\n",
        "#               dim = (width, height)\n",
        "#               frame = cv2.resize(frame, dim, interpolation=cv2.INTER_AREA)\n",
        "#               image, results = mediapipe_detection(frame, holistic)\n",
        "#               if k % save_frames == save_frames-1:\n",
        "#                 keypoints = extract_Values(results)\n",
        "#                 keypoints_list.append(keypoints)\n",
        "#                 nbr += 1\n",
        "#               k += 1\n",
        "#           npy_path = os.path.join(save_dir, filename.split(\".\")[0] + str(alpha-50) + \".npy\")\n",
        "#           np.save(npy_path, keypoints_list)"
      ]
    },
    {
      "cell_type": "code",
      "execution_count": null,
      "metadata": {
        "id": "p6O9cCdj0omx"
      },
      "outputs": [],
      "source": [
        "# with mp_holistic.Holistic(min_detection_confidence=0.5, min_tracking_confidence=0.5) as holistic:\n",
        "#   for filename in os.listdir(directory_path):\n",
        "#       if filename.endswith(\".mp4\"):\n",
        "#         video_path = os.path.join(directory_path, filename)\n",
        "#         num_frames = count_frames(video_path)\n",
        "#         save_frames = int(num_frames/15)\n",
        "#         for alpha in range(50,100,5):\n",
        "#           cap = cv2.VideoCapture(video_path)\n",
        "#           # Récupérer les propriétés de la vidéo\n",
        "#           frame_width = int(cap.get(cv2.CAP_PROP_FRAME_WIDTH))\n",
        "#           frame_height = int(cap.get(cv2.CAP_PROP_FRAME_HEIGHT))\n",
        "#           keypoints_list = []\n",
        "#           nbr,k = 0,0\n",
        "#           while nbr < 15:\n",
        "#             ret, frame = cap.read()\n",
        "#             frame = cv2.flip(frame, 1)\n",
        "#             if not ret:\n",
        "#               keypoints_list.append(np.full(122, -1))\n",
        "#               nbr+=1\n",
        "#             else:\n",
        "#               image, results = mediapipe_detection(frame, holistic)\n",
        "#               if k % save_frames == save_frames-1:\n",
        "#                 keypoints = extract_Values(results)\n",
        "#                 keypoints_list.append(keypoints)\n",
        "#                 nbr += 1\n",
        "#               k += 1\n",
        "#           npy_path = os.path.join(save_dir, filename.split(\".\")[0] + str(alpha) + \".npy\")\n",
        "#           np.save(npy_path, keypoints_list)"
      ]
    },
    {
      "cell_type": "markdown",
      "metadata": {
        "id": "maq50dEYG8UC"
      },
      "source": [
        "## **Preprocess Data**"
      ]
    },
    {
      "cell_type": "code",
      "execution_count": null,
      "metadata": {
        "id": "1DMcz_tFybcG"
      },
      "outputs": [],
      "source": [
        "from sklearn.model_selection import train_test_split\n",
        "from tensorflow.keras.utils import to_categorical"
      ]
    },
    {
      "cell_type": "code",
      "execution_count": null,
      "metadata": {
        "id": "b6zU5-QMGs8z"
      },
      "outputs": [],
      "source": [
        "DATA_PATH = '/content/drive/MyDrive/sign_language2/new_data/keypointsClasses'\n",
        "signs = np.array(['chukran', 'kayf_l7al','sbh_lkhir','a3tadir','salamoalikom','bekhir'])\n",
        "label_map = {label:num for num, label in enumerate(signs)}"
      ]
    },
    {
      "cell_type": "code",
      "execution_count": null,
      "metadata": {
        "id": "Y301Gw_aGs4q",
        "colab": {
          "base_uri": "https://localhost:8080/"
        },
        "outputId": "8f313ff6-8c7f-40c4-d9a8-1e3213bb4ca7"
      },
      "outputs": [
        {
          "output_type": "execute_result",
          "data": {
            "text/plain": [
              "{'chukran': 0,\n",
              " 'kayf_l7al': 1,\n",
              " 'sbh_lkhir': 2,\n",
              " 'a3tadir': 3,\n",
              " 'salamoalikom': 4,\n",
              " 'bekhir': 5}"
            ]
          },
          "metadata": {},
          "execution_count": 10
        }
      ],
      "source": [
        "label_map"
      ]
    },
    {
      "cell_type": "code",
      "execution_count": null,
      "metadata": {
        "id": "Xku0Og3QGs0G"
      },
      "outputs": [],
      "source": [
        "#Ce code parcourt une liste de signes et pour chaque signe, il itère à travers les fichiers dans le répertoire correspondant au signe\n",
        "sequences, labels = [], []\n",
        "for sign in signs:\n",
        "    for filename in os.listdir(os.path.join(DATA_PATH, sign)):\n",
        "        res = np.load(os.path.join(DATA_PATH, sign,filename))\n",
        "        sequences.append(res)\n",
        "        labels.append(label_map[sign])"
      ]
    },
    {
      "cell_type": "code",
      "execution_count": null,
      "metadata": {
        "id": "giu2rq-bGsv3",
        "colab": {
          "base_uri": "https://localhost:8080/"
        },
        "outputId": "ad26c30c-92bf-4d5d-906e-a8ad7d9db788"
      },
      "outputs": [
        {
          "output_type": "execute_result",
          "data": {
            "text/plain": [
              "(15, 122)"
            ]
          },
          "metadata": {},
          "execution_count": 12
        }
      ],
      "source": [
        "res.shape"
      ]
    },
    {
      "cell_type": "code",
      "source": [
        "len(sequences)"
      ],
      "metadata": {
        "id": "fyvp6XeBmLpD",
        "colab": {
          "base_uri": "https://localhost:8080/"
        },
        "outputId": "7d6f596a-e7ad-4ffa-85d4-879bdb7d986a"
      },
      "execution_count": null,
      "outputs": [
        {
          "output_type": "execute_result",
          "data": {
            "text/plain": [
              "2132"
            ]
          },
          "metadata": {},
          "execution_count": 13
        }
      ]
    },
    {
      "cell_type": "code",
      "execution_count": null,
      "metadata": {
        "id": "2xcOLamjGsru"
      },
      "outputs": [],
      "source": [
        "X = np.array(sequences)"
      ]
    },
    {
      "cell_type": "code",
      "execution_count": null,
      "metadata": {
        "id": "ti9elzVWLHtZ"
      },
      "outputs": [],
      "source": [
        "X.shape"
      ]
    },
    {
      "cell_type": "code",
      "execution_count": null,
      "metadata": {
        "id": "vo9hovafGsne"
      },
      "outputs": [],
      "source": [
        "y = to_categorical(labels).astype(int)"
      ]
    },
    {
      "cell_type": "code",
      "execution_count": null,
      "metadata": {
        "id": "DyuHXzWNybXy",
        "colab": {
          "base_uri": "https://localhost:8080/"
        },
        "outputId": "e0511168-e4c9-43ad-8d36-c77258a2d728"
      },
      "outputs": [
        {
          "output_type": "execute_result",
          "data": {
            "text/plain": [
              "(2132, 6)"
            ]
          },
          "metadata": {},
          "execution_count": 17
        }
      ],
      "source": [
        "y.shape"
      ]
    },
    {
      "cell_type": "code",
      "execution_count": null,
      "metadata": {
        "id": "GfNs-NMMIdIL"
      },
      "outputs": [],
      "source": [
        "X_train, X_test, y_train, y_test = train_test_split(X, y, test_size=0.2)"
      ]
    },
    {
      "cell_type": "code",
      "execution_count": null,
      "metadata": {
        "id": "niO0ppbuIdEz",
        "colab": {
          "base_uri": "https://localhost:8080/"
        },
        "outputId": "551c473d-a628-4630-fbd2-ffe13307033c"
      },
      "outputs": [
        {
          "output_type": "execute_result",
          "data": {
            "text/plain": [
              "(1705, 15, 122)"
            ]
          },
          "metadata": {},
          "execution_count": 19
        }
      ],
      "source": [
        "X_train.shape"
      ]
    },
    {
      "cell_type": "markdown",
      "metadata": {
        "id": "ShBozIBsWWOI"
      },
      "source": [
        "# **Models**"
      ]
    },
    {
      "cell_type": "code",
      "execution_count": null,
      "metadata": {
        "id": "LRsLniMModrL"
      },
      "outputs": [],
      "source": [
        "from tensorflow.keras.models import Sequential\n",
        "from tensorflow.keras.layers import GRU, Dropout, Dense, BatchNormalization\n",
        "from tensorflow.keras import regularizers\n",
        "from tensorflow.keras.callbacks import TensorBoard\n",
        "from tensorflow.keras.layers import LSTM"
      ]
    },
    {
      "cell_type": "markdown",
      "source": [
        "**Purement GRU**"
      ],
      "metadata": {
        "id": "iO7kGlpfNTDF"
      }
    },
    {
      "cell_type": "code",
      "execution_count": null,
      "metadata": {
        "id": "9M9dN8VRodoA"
      },
      "outputs": [],
      "source": [
        "#purement GRU\n",
        "model = Sequential()\n",
        "model.add(GRU(128, return_sequences=True, activation='relu'))\n",
        "model.add(Dropout(0.2))\n",
        "model.add(GRU(64, return_sequences=False, activation='relu'))\n",
        "model.add(Dense(64, activation='relu', kernel_regularizer=regularizers.l2(0.01)))\n",
        "model.add(Dropout(0.2))\n",
        "model.add(Dense(32, activation='relu', kernel_regularizer=regularizers.l2(0.01)))\n",
        "model.add(Dropout(0.2))\n",
        "model.add(Dense(signs.shape[0], activation='softmax'))"
      ]
    },
    {
      "cell_type": "code",
      "execution_count": null,
      "metadata": {
        "id": "2AE7H0gxn_hq"
      },
      "outputs": [],
      "source": [
        "log_dir = os.path.join('Logs')\n",
        "tb_callback = TensorBoard(log_dir=log_dir)"
      ]
    },
    {
      "cell_type": "code",
      "execution_count": null,
      "metadata": {
        "id": "ji2D28Y6odle"
      },
      "outputs": [],
      "source": [
        "model.compile(optimizer='Adam', loss='categorical_crossentropy', metrics=['categorical_accuracy'])"
      ]
    },
    {
      "cell_type": "code",
      "execution_count": null,
      "metadata": {
        "id": "h7M9k_u9odhM"
      },
      "outputs": [],
      "source": [
        "#model.fit(X_train, y_train,batch_size=8, epochs=250, callbacks=[tb_callback])"
      ]
    },
    {
      "cell_type": "markdown",
      "source": [
        "**Hybrid deep learning GRU-LSTM**"
      ],
      "metadata": {
        "id": "TLi11zWIMXfB"
      }
    },
    {
      "cell_type": "code",
      "source": [
        "#hybrid deep learning GRU-LSTM\n",
        "model1 = Sequential()\n",
        "model1.add(GRU(128, return_sequences=True, activation='relu'))\n",
        "model1.add(LSTM(64, return_sequences=False, activation='relu'))  # Add LSTM layer\n",
        "model1.add(Dense(64, activation='relu', kernel_regularizer=regularizers.l2(0.01)))\n",
        "model1.add(Dropout(0.2))\n",
        "model1.add(Dense(32, activation='relu', kernel_regularizer=regularizers.l2(0.01)))\n",
        "model1.add(Dropout(0.2))\n",
        "model1.add(Dense(signs.shape[0], activation='softmax'))\n"
      ],
      "metadata": {
        "id": "JsSb8q6IO8mz"
      },
      "execution_count": null,
      "outputs": []
    },
    {
      "cell_type": "code",
      "source": [
        "model1.compile(optimizer='Adam', loss='categorical_crossentropy', metrics=['categorical_accuracy'])"
      ],
      "metadata": {
        "id": "UKostpapMcxk"
      },
      "execution_count": null,
      "outputs": []
    },
    {
      "cell_type": "code",
      "source": [
        "#model1.fit(X_train, y_train,batch_size=8, epochs=250, callbacks=[tb_callback])"
      ],
      "metadata": {
        "id": "E7EG2ixcMiSD"
      },
      "execution_count": null,
      "outputs": []
    },
    {
      "cell_type": "markdown",
      "source": [
        "**Purement LSTM**"
      ],
      "metadata": {
        "id": "wydVKwYIMj-H"
      }
    },
    {
      "cell_type": "code",
      "source": [
        "#LSTM\n",
        "model2 = Sequential()\n",
        "model2.add(LSTM(128, return_sequences=True, activation='relu'))\n",
        "model2.add(Dropout(0.2))\n",
        "model2.add(LSTM(64, return_sequences=False, activation='relu'))\n",
        "model2.add(Dense(64, activation='relu', kernel_regularizer=regularizers.l2(0.01)))\n",
        "model2.add(Dropout(0.2))\n",
        "model2.add(Dense(32, activation='relu', kernel_regularizer=regularizers.l2(0.01)))\n",
        "model2.add(Dropout(0.2))\n",
        "model2.add(Dense(signs.shape[0], activation='softmax'))"
      ],
      "metadata": {
        "id": "6CtHyN8hO6AP"
      },
      "execution_count": null,
      "outputs": []
    },
    {
      "cell_type": "code",
      "source": [
        "model2.compile(optimizer='Adam', loss='categorical_crossentropy', metrics=['categorical_accuracy'])"
      ],
      "metadata": {
        "id": "hk0OtFXXM3bp"
      },
      "execution_count": null,
      "outputs": []
    },
    {
      "cell_type": "code",
      "source": [
        "#model2.fit(X_train, y_train,batch_size=8, epochs=250, callbacks=[tb_callback])"
      ],
      "metadata": {
        "id": "Z4r-naiPM2aG"
      },
      "execution_count": null,
      "outputs": []
    },
    {
      "cell_type": "markdown",
      "source": [
        "**Save models**"
      ],
      "metadata": {
        "id": "AppVZwwiMy0u"
      }
    },
    {
      "cell_type": "code",
      "execution_count": null,
      "metadata": {
        "id": "orpR5o3-X9TY"
      },
      "outputs": [],
      "source": [
        "model.save('/content/drive/MyDrive/sign_language2/new_data/keypointsClasses/modelAssociation.h5')\n",
        "#/content/drive/MyDrive/sign_language2/keypointsJrs/models_saved/JrsGRU.h5"
      ]
    },
    {
      "cell_type": "code",
      "source": [
        "#model hybrid saving\n",
        "model1.save('/content/drive/MyDrive/sign_language2/new_data/hybridDL.h5')\n",
        "#/content/drive/MyDrive/sign_language2/new_data/hybridDL.h5"
      ],
      "metadata": {
        "id": "FpUiW3dwsX6P"
      },
      "execution_count": null,
      "outputs": []
    },
    {
      "cell_type": "code",
      "source": [
        "#save LSTM\n",
        "model2.save('/content/drive/MyDrive/sign_language2/new_data/lstm.h5')\n",
        "#/content/drive/MyDrive/sign_language2/new_data/lstm.h5"
      ],
      "metadata": {
        "id": "NfNSKYmkNpdi"
      },
      "execution_count": null,
      "outputs": []
    },
    {
      "cell_type": "markdown",
      "source": [
        "**build**"
      ],
      "metadata": {
        "id": "Vtn3JUSVOZSa"
      }
    },
    {
      "cell_type": "code",
      "execution_count": null,
      "metadata": {
        "id": "0oMZ_wVb0YjK"
      },
      "outputs": [],
      "source": [
        "model.build((1, 15, 122))"
      ]
    },
    {
      "cell_type": "code",
      "source": [
        "model1.build((1, 15, 122))"
      ],
      "metadata": {
        "id": "5PVck-iZOcvP"
      },
      "execution_count": null,
      "outputs": []
    },
    {
      "cell_type": "code",
      "source": [
        "model2.build((1, 15, 122))"
      ],
      "metadata": {
        "id": "CXrIb2KzOc01"
      },
      "execution_count": null,
      "outputs": []
    },
    {
      "cell_type": "markdown",
      "source": [
        "**load**"
      ],
      "metadata": {
        "id": "5JK0r0cnOi8J"
      }
    },
    {
      "cell_type": "code",
      "execution_count": null,
      "metadata": {
        "id": "Fm1yLjp80eEZ"
      },
      "outputs": [],
      "source": [
        "model.load_weights('/content/drive/MyDrive/sign_language2/new_data/keypointsClasses/modelAssociation.h5')"
      ]
    },
    {
      "cell_type": "code",
      "source": [
        "model1.load_weights('/content/drive/MyDrive/sign_language2/new_data/hybridDL.h5')"
      ],
      "metadata": {
        "id": "lt4qogiKOrRp"
      },
      "execution_count": null,
      "outputs": []
    },
    {
      "cell_type": "code",
      "source": [
        "model2.load_weights('/content/drive/MyDrive/sign_language2/new_data/lstm.h5')"
      ],
      "metadata": {
        "id": "UuAp2WEuOrU8"
      },
      "execution_count": null,
      "outputs": []
    },
    {
      "cell_type": "markdown",
      "source": [
        "**Prediction**"
      ],
      "metadata": {
        "id": "HymA9ludO13y"
      }
    },
    {
      "cell_type": "code",
      "execution_count": null,
      "metadata": {
        "id": "bJgACjVOe7q7"
      },
      "outputs": [],
      "source": [
        "with mp_holistic.Holistic(min_detection_confidence=0.5, min_tracking_confidence=0.5) as holistic:\n",
        "    video_path = r\"/content/drive/MyDrive/sign_language2/new_data/sbh_lkhir/14.mp4\"\n",
        "    num_frames = count_frames(video_path)\n",
        "    save_frames = int(num_frames/15)\n",
        "    cap = cv2.VideoCapture(video_path)\n",
        "    keypoints_list = []\n",
        "    nbr,k = 0,0\n",
        "    while nbr < 15:\n",
        "        ret, frame = cap.read()\n",
        "        if not ret:\n",
        "          keypoints_list.append(np.full(122, -1))\n",
        "          nbr+=1\n",
        "        else:\n",
        "          image, results = mediapipe_detection(frame, holistic)\n",
        "          if k % save_frames == save_frames-1:\n",
        "            keypoints = extract_Values(results)\n",
        "            keypoints_list.append(keypoints)\n",
        "            nbr += 1\n",
        "          k+=1"
      ]
    },
    {
      "cell_type": "code",
      "execution_count": null,
      "metadata": {
        "id": "qVa9WxDPBkKC"
      },
      "outputs": [],
      "source": [
        "sequence = []\n",
        "sequence.append(keypoints_list)\n",
        "X = np.array(sequence)"
      ]
    },
    {
      "cell_type": "code",
      "execution_count": null,
      "metadata": {
        "id": "TisiubAgBlTh",
        "colab": {
          "base_uri": "https://localhost:8080/"
        },
        "outputId": "aa45d993-b0ca-4d5e-ecfc-16e12c928fa5"
      },
      "outputs": [
        {
          "output_type": "execute_result",
          "data": {
            "text/plain": [
              "(1, 15, 122)"
            ]
          },
          "metadata": {},
          "execution_count": 36
        }
      ],
      "source": [
        "X.shape"
      ]
    },
    {
      "cell_type": "markdown",
      "source": [
        "**GRU**"
      ],
      "metadata": {
        "id": "t-aHfhuYO7Zg"
      }
    },
    {
      "cell_type": "code",
      "execution_count": null,
      "metadata": {
        "id": "JW9QRtyNBlOT",
        "colab": {
          "base_uri": "https://localhost:8080/",
          "height": 52
        },
        "outputId": "72bd2611-8c76-4227-f86e-1c660e049537"
      },
      "outputs": [
        {
          "output_type": "stream",
          "name": "stdout",
          "text": [
            "1/1 [==============================] - 1s 665ms/step\n"
          ]
        },
        {
          "output_type": "execute_result",
          "data": {
            "text/plain": [
              "'sbh_lkhir'"
            ],
            "application/vnd.google.colaboratory.intrinsic+json": {
              "type": "string"
            }
          },
          "metadata": {},
          "execution_count": 37
        }
      ],
      "source": [
        "test = model.predict(X)\n",
        "signs[np.argmax(test)]"
      ]
    },
    {
      "cell_type": "code",
      "execution_count": null,
      "metadata": {
        "id": "uHkS5f80Bj8k",
        "colab": {
          "base_uri": "https://localhost:8080/"
        },
        "outputId": "d9fdbf46-a55f-49e8-c9d2-95b58273fd31"
      },
      "outputs": [
        {
          "output_type": "stream",
          "name": "stdout",
          "text": [
            "14/14 [==============================] - 0s 10ms/step\n"
          ]
        }
      ],
      "source": [
        "y_pred = model.predict(X_test)"
      ]
    },
    {
      "cell_type": "code",
      "execution_count": null,
      "metadata": {
        "id": "T3GidbCN98kf",
        "colab": {
          "base_uri": "https://localhost:8080/"
        },
        "outputId": "fb1cd549-6d1a-4b6f-8dc1-f474f164d13d"
      },
      "outputs": [
        {
          "output_type": "stream",
          "name": "stdout",
          "text": [
            "Test Loss: 0.041924990713596344\n",
            "Test accuracy: 0.9976580739021301\n",
            "--------------------------\n",
            "Train Loss: 0.038633208721876144\n",
            "Train accuracy: 0.9982404708862305\n"
          ]
        }
      ],
      "source": [
        "score = model.evaluate(X_test, y_test, verbose=0)\n",
        "print('Test Loss:', score[0])\n",
        "print('Test accuracy:', score[1])\n",
        "print(\"--------------------------\")\n",
        "scoreT = model.evaluate(X_train, y_train, verbose=0)\n",
        "print('Train Loss:', scoreT[0])\n",
        "print('Train accuracy:', scoreT[1])"
      ]
    },
    {
      "cell_type": "markdown",
      "source": [
        "**Hybrid GRU-LSTM**"
      ],
      "metadata": {
        "id": "e8ZHpOlWPAqD"
      }
    },
    {
      "cell_type": "code",
      "source": [
        "test = model1.predict(X)\n",
        "signs[np.argmax(test)]"
      ],
      "metadata": {
        "id": "o_D7SOitPEQM",
        "colab": {
          "base_uri": "https://localhost:8080/",
          "height": 52
        },
        "outputId": "3855a1f7-5cee-42f8-da8f-8d369594a7d2"
      },
      "execution_count": null,
      "outputs": [
        {
          "output_type": "stream",
          "name": "stdout",
          "text": [
            "1/1 [==============================] - 1s 518ms/step\n"
          ]
        },
        {
          "output_type": "execute_result",
          "data": {
            "text/plain": [
              "'chukran'"
            ],
            "application/vnd.google.colaboratory.intrinsic+json": {
              "type": "string"
            }
          },
          "metadata": {},
          "execution_count": 40
        }
      ]
    },
    {
      "cell_type": "code",
      "source": [
        "y_pred1 = model1.predict(X_test)"
      ],
      "metadata": {
        "id": "YEC_MAGMPEW0",
        "colab": {
          "base_uri": "https://localhost:8080/"
        },
        "outputId": "bad7956f-b6c9-4ebd-a4a4-c0c339e33746"
      },
      "execution_count": null,
      "outputs": [
        {
          "output_type": "stream",
          "name": "stdout",
          "text": [
            "14/14 [==============================] - 0s 10ms/step\n"
          ]
        }
      ]
    },
    {
      "cell_type": "code",
      "source": [
        "score = model1.evaluate(X_test, y_test, verbose=0)\n",
        "print('Test Loss:', score[0])\n",
        "print('Test accuracy:', score[1])\n",
        "print(\"--------------------------\")\n",
        "scoreT = model1.evaluate(X_train, y_train, verbose=0)\n",
        "print('Train Loss:', scoreT[0])\n",
        "print('Train accuracy:', scoreT[1])"
      ],
      "metadata": {
        "id": "vhX-7gc9PEZx",
        "colab": {
          "base_uri": "https://localhost:8080/"
        },
        "outputId": "712e50cd-9c32-4d1a-8140-d20d2962c481"
      },
      "execution_count": null,
      "outputs": [
        {
          "output_type": "stream",
          "name": "stdout",
          "text": [
            "Test Loss: 0.40377965569496155\n",
            "Test accuracy: 0.864168643951416\n",
            "--------------------------\n",
            "Train Loss: 0.4137861132621765\n",
            "Train accuracy: 0.8469208478927612\n"
          ]
        }
      ]
    },
    {
      "cell_type": "markdown",
      "source": [
        "**LSTM**"
      ],
      "metadata": {
        "id": "VhCRO2BcPRdv"
      }
    },
    {
      "cell_type": "code",
      "source": [
        "test = model2.predict(X)\n",
        "signs[np.argmax(test)]"
      ],
      "metadata": {
        "id": "rxyBl2FPPEcq",
        "colab": {
          "base_uri": "https://localhost:8080/",
          "height": 52
        },
        "outputId": "de015c9b-b929-43ac-d190-b15ebe7dbd17"
      },
      "execution_count": null,
      "outputs": [
        {
          "output_type": "stream",
          "name": "stdout",
          "text": [
            "1/1 [==============================] - 1s 598ms/step\n"
          ]
        },
        {
          "output_type": "execute_result",
          "data": {
            "text/plain": [
              "'kayf_l7al'"
            ],
            "application/vnd.google.colaboratory.intrinsic+json": {
              "type": "string"
            }
          },
          "metadata": {},
          "execution_count": 43
        }
      ]
    },
    {
      "cell_type": "code",
      "source": [
        "y_pred2 = model2.predict(X_test)"
      ],
      "metadata": {
        "id": "ZaHfWhIJPTq9",
        "colab": {
          "base_uri": "https://localhost:8080/"
        },
        "outputId": "6f8ca4ee-50d6-4b0d-e65f-6fc698fa788a"
      },
      "execution_count": null,
      "outputs": [
        {
          "output_type": "stream",
          "name": "stdout",
          "text": [
            "14/14 [==============================] - 0s 30ms/step\n"
          ]
        }
      ]
    },
    {
      "cell_type": "code",
      "source": [
        "score = model2.evaluate(X_test, y_test, verbose=0)\n",
        "print('Test Loss:', score[0])\n",
        "print('Test accuracy:', score[1])\n",
        "print(\"--------------------------\")\n",
        "scoreT = model2.evaluate(X_train, y_train, verbose=0)\n",
        "print('Train Loss:', scoreT[0])\n",
        "print('Train accuracy:', scoreT[1])"
      ],
      "metadata": {
        "id": "JPJUXlFVPT1v",
        "colab": {
          "base_uri": "https://localhost:8080/"
        },
        "outputId": "c17840eb-9624-4672-ba2d-c15a4d53da9e"
      },
      "execution_count": null,
      "outputs": [
        {
          "output_type": "stream",
          "name": "stdout",
          "text": [
            "Test Loss: 1.7227561473846436\n",
            "Test accuracy: 0.22248244285583496\n",
            "--------------------------\n",
            "Train Loss: 1.745173692703247\n",
            "Train accuracy: 0.21994134783744812\n"
          ]
        }
      ]
    },
    {
      "cell_type": "markdown",
      "source": [
        "**Matrice de confusion**"
      ],
      "metadata": {
        "id": "S1yIw-M3PvtP"
      }
    },
    {
      "cell_type": "code",
      "source": [
        "import numpy as np\n",
        "import matplotlib.pyplot as plt\n",
        "from sklearn.metrics import confusion_matrix\n",
        "import itertools"
      ],
      "metadata": {
        "id": "PgRFor5qQBwg"
      },
      "execution_count": null,
      "outputs": []
    },
    {
      "cell_type": "markdown",
      "source": [
        "**GRU**"
      ],
      "metadata": {
        "id": "n-Jo_4zOQI8o"
      }
    },
    {
      "cell_type": "code",
      "source": [
        "y_true = np.argmax(y_test, axis=1)\n",
        "y_pred = np.argmax(y_pred, axis=1)\n",
        "\n",
        "confusion = confusion_matrix(y_true, y_pred)\n",
        "print(confusion)"
      ],
      "metadata": {
        "id": "todkBmNJk6Zo",
        "colab": {
          "base_uri": "https://localhost:8080/"
        },
        "outputId": "35932bc6-28c2-4333-eaec-484ca72c5302"
      },
      "execution_count": null,
      "outputs": [
        {
          "output_type": "stream",
          "name": "stdout",
          "text": [
            "[[71  0  0  0  0  0]\n",
            " [ 0 70  0  0  0  0]\n",
            " [ 0  0 85  1  0  0]\n",
            " [ 0  0  0 82  0  0]\n",
            " [ 0  0  0  0 66  0]\n",
            " [ 0  0  0  0  0 52]]\n"
          ]
        }
      ]
    },
    {
      "cell_type": "markdown",
      "source": [
        "**Hybrid GRU-LSTM**"
      ],
      "metadata": {
        "id": "9qGO7T7KQLG8"
      }
    },
    {
      "cell_type": "code",
      "source": [
        "y_true = np.argmax(y_test, axis=1)\n",
        "y_pred1 = np.argmax(y_pred1, axis=1)\n",
        "\n",
        "confusion = confusion_matrix(y_true, y_pred1)\n",
        "print(confusion)"
      ],
      "metadata": {
        "id": "cuKYI7W-QQQ9",
        "colab": {
          "base_uri": "https://localhost:8080/"
        },
        "outputId": "12044cdb-435b-4929-f611-452afc019621"
      },
      "execution_count": null,
      "outputs": [
        {
          "output_type": "stream",
          "name": "stdout",
          "text": [
            "[[44  4  2  1  5 15]\n",
            " [ 3 59  3  0  0  5]\n",
            " [ 1  2 82  0  1  0]\n",
            " [ 1  0  1 80  0  0]\n",
            " [ 2  0  0  0 64  0]\n",
            " [ 4  0  0  0  8 40]]\n"
          ]
        }
      ]
    },
    {
      "cell_type": "markdown",
      "source": [
        "**LSTM**"
      ],
      "metadata": {
        "id": "bmfV__A7QQ7V"
      }
    },
    {
      "cell_type": "code",
      "source": [
        "y_true = np.argmax(y_test, axis=1)\n",
        "y_pred2 = np.argmax(y_pred2, axis=1)\n",
        "\n",
        "confusion = confusion_matrix(y_true, y_pred2)\n",
        "print(confusion)"
      ],
      "metadata": {
        "id": "FtLFyXQ5QTEK",
        "colab": {
          "base_uri": "https://localhost:8080/"
        },
        "outputId": "b3a6318b-d104-4795-ace9-318ec41a0948"
      },
      "execution_count": null,
      "outputs": [
        {
          "output_type": "stream",
          "name": "stdout",
          "text": [
            "[[ 0 71  0  0  0  0]\n",
            " [ 0 70  0  0  0  0]\n",
            " [ 0 81  0  5  0  0]\n",
            " [ 0 57  0 25  0  0]\n",
            " [ 0 66  0  0  0  0]\n",
            " [ 1 51  0  0  0  0]]\n"
          ]
        }
      ]
    },
    {
      "cell_type": "markdown",
      "source": [
        "**GRU**"
      ],
      "metadata": {
        "id": "SKu_l_3CQhDF"
      }
    },
    {
      "cell_type": "code",
      "source": [
        "# Création de la matrice de confusion\n",
        "confusion = confusion_matrix(y_true, y_pred)\n",
        "\n",
        "# Création de la figure\n",
        "plt.figure(figsize=(8, 6))\n",
        "\n",
        "# Création du plot de la matrice de confusion\n",
        "plt.imshow(confusion, interpolation='nearest', cmap=plt.cm.Blues)\n",
        "plt.title(\"Matrice de Confusion\")\n",
        "plt.colorbar()\n",
        "\n",
        "# Ajout des étiquettes des classes\n",
        "classes = signs\n",
        "tick_marks = np.arange(len(classes))\n",
        "plt.xticks(tick_marks, classes, rotation=45)\n",
        "plt.yticks(tick_marks, classes)\n",
        "\n",
        "# Normalisation des valeurs de la matrice de confusion\n",
        "confusion_normalized = confusion.astype('float') / confusion.sum(axis=1)[:, np.newaxis]\n",
        "\n",
        "# Ajout des valeurs dans les cellules\n",
        "thresh = confusion.max() / 2.\n",
        "for i, j in itertools.product(range(confusion.shape[0]), range(confusion.shape[1])):\n",
        "    plt.text(j, i, \"{:,}\".format(confusion[i, j]),\n",
        "             horizontalalignment=\"center\",\n",
        "             color=\"white\" if confusion_normalized[i, j] > thresh else \"black\")\n",
        "\n",
        "# Configuration des axes\n",
        "plt.tight_layout()\n",
        "plt.ylabel('Vraie classe')\n",
        "plt.xlabel('Classe prédite')\n",
        "\n",
        "# Affichage du diagramme de matrice de confusion\n",
        "plt.show()\n"
      ],
      "metadata": {
        "id": "H9VZcW60k6cN",
        "colab": {
          "base_uri": "https://localhost:8080/",
          "height": 627
        },
        "outputId": "c4f34a14-f327-4be5-b089-ba4a626f17e6"
      },
      "execution_count": null,
      "outputs": [
        {
          "output_type": "display_data",
          "data": {
            "text/plain": [
              "<Figure size 800x600 with 2 Axes>"
            ],
            "image/png": "[encoded data removed]"
          },
          "metadata": {}
        }
      ]
    },
    {
      "cell_type": "markdown",
      "source": [
        "**Hybdid GRU-LSTM**"
      ],
      "metadata": {
        "id": "iA4yem-3QjkH"
      }
    },
    {
      "cell_type": "code",
      "source": [
        "# Création de la matrice de confusion\n",
        "confusion = confusion_matrix(y_true, y_pred1)\n",
        "\n",
        "# Création de la figure\n",
        "plt.figure(figsize=(8, 6))\n",
        "\n",
        "# Création du plot de la matrice de confusion\n",
        "plt.imshow(confusion, interpolation='nearest', cmap=plt.cm.Blues)\n",
        "plt.title(\"Matrice de Confusion\")\n",
        "plt.colorbar()\n",
        "\n",
        "# Ajout des étiquettes des classes\n",
        "classes = signs\n",
        "tick_marks = np.arange(len(classes))\n",
        "plt.xticks(tick_marks, classes, rotation=45)\n",
        "plt.yticks(tick_marks, classes)\n",
        "\n",
        "# Normalisation des valeurs de la matrice de confusion\n",
        "confusion_normalized = confusion.astype('float') / confusion.sum(axis=1)[:, np.newaxis]\n",
        "\n",
        "# Ajout des valeurs dans les cellules\n",
        "thresh = confusion.max() / 2.\n",
        "for i, j in itertools.product(range(confusion.shape[0]), range(confusion.shape[1])):\n",
        "    plt.text(j, i, \"{:,}\".format(confusion[i, j]),\n",
        "             horizontalalignment=\"center\",\n",
        "             color=\"white\" if confusion_normalized[i, j] > thresh else \"black\")\n",
        "\n",
        "# Configuration des axes\n",
        "plt.tight_layout()\n",
        "plt.ylabel('Vraie classe')\n",
        "plt.xlabel('Classe prédite')\n",
        "\n",
        "# Affichage du diagramme de matrice de confusion\n",
        "plt.show()"
      ],
      "metadata": {
        "id": "ZnrKwaCcQot6",
        "colab": {
          "base_uri": "https://localhost:8080/",
          "height": 627
        },
        "outputId": "bea6ef4c-a2f5-4e0c-f249-0269538ca72b"
      },
      "execution_count": null,
      "outputs": [
        {
          "output_type": "display_data",
          "data": {
            "text/plain": [
              "<Figure size 800x600 with 2 Axes>"
            ],
            "image/png": "[encoded data removed]"
          },
          "metadata": {}
        }
      ]
    },
    {
      "cell_type": "markdown",
      "source": [
        "**LSTM**"
      ],
      "metadata": {
        "id": "ZkDb2zC8QpW_"
      }
    },
    {
      "cell_type": "code",
      "source": [
        "# Création de la matrice de confusion\n",
        "confusion = confusion_matrix(y_true, y_pred2)\n",
        "\n",
        "# Création de la figure\n",
        "plt.figure(figsize=(8, 6))\n",
        "\n",
        "# Création du plot de la matrice de confusion\n",
        "plt.imshow(confusion, interpolation='nearest', cmap=plt.cm.Blues)\n",
        "plt.title(\"Matrice de Confusion\")\n",
        "plt.colorbar()\n",
        "\n",
        "# Ajout des étiquettes des classes\n",
        "classes = signs\n",
        "tick_marks = np.arange(len(classes))\n",
        "plt.xticks(tick_marks, classes, rotation=45)\n",
        "plt.yticks(tick_marks, classes)\n",
        "\n",
        "# Normalisation des valeurs de la matrice de confusion\n",
        "confusion_normalized = confusion.astype('float') / confusion.sum(axis=1)[:, np.newaxis]\n",
        "\n",
        "# Ajout des valeurs dans les cellules\n",
        "thresh = confusion.max() / 2.\n",
        "for i, j in itertools.product(range(confusion.shape[0]), range(confusion.shape[1])):\n",
        "    plt.text(j, i, \"{:,}\".format(confusion[i, j]),\n",
        "             horizontalalignment=\"center\",\n",
        "             color=\"white\" if confusion_normalized[i, j] > thresh else \"black\")\n",
        "\n",
        "# Configuration des axes\n",
        "plt.tight_layout()\n",
        "plt.ylabel('Vraie classe')\n",
        "plt.xlabel('Classe prédite')\n",
        "\n",
        "# Affichage du diagramme de matrice de confusion\n",
        "plt.show()"
      ],
      "metadata": {
        "id": "CFST7MgHQq0q",
        "colab": {
          "base_uri": "https://localhost:8080/",
          "height": 627
        },
        "outputId": "b8375cbd-573e-4d7c-dc5c-52a65a39fa18"
      },
      "execution_count": null,
      "outputs": [
        {
          "output_type": "display_data",
          "data": {
            "text/plain": [
              "<Figure size 800x600 with 2 Axes>"
            ],
            "image/png": "[encoded data removed]"
          },
          "metadata": {}
        }
      ]
    },
    {
      "cell_type": "markdown",
      "source": [
        "**Comparaison des accuracies**"
      ],
      "metadata": {
        "id": "EM99jb9HQ0a0"
      }
    },
    {
      "cell_type": "code",
      "source": [
        "##ploting ,mn b3d\n",
        "import matplotlib.pyplot as plt\n",
        "\n",
        "# Évaluer le premier modèle\n",
        "score_model1 = model.evaluate(X_test, y_test, verbose=0)\n",
        "loss_model1 = score_model1[0]\n",
        "accuracy_model1 = score_model1[1]\n",
        "\n",
        "# Évaluer le deuxième modèle\n",
        "score_model2 = model1.evaluate(X_test, y_test, verbose=0)\n",
        "loss_model2 = score_model2[0]\n",
        "accuracy_model2 = score_model2[1]\n",
        "\n",
        "# Évaluer le troisième modèle\n",
        "score_model3 = model2.evaluate(X_test, y_test, verbose=0)\n",
        "loss_model3 = score_model3[0]\n",
        "accuracy_model3 = score_model3[1]\n",
        "\n",
        "# Précisions des modèles\n",
        "accuracies = [accuracy_model1, accuracy_model2, accuracy_model3]\n",
        "models = ['GRU', 'GRU-LSTM', 'LSTM']\n",
        "colors = ['green', 'red', 'blue']\n",
        "\n",
        "plt.bar(models, accuracies, color=colors)\n",
        "plt.xlabel('Modèles')\n",
        "plt.ylabel('Précision')\n",
        "plt.title('Comparaison des précisions des modèles')\n",
        "\n",
        "\n",
        "for i, acc in enumerate(accuracies):\n",
        "    plt.text(i, acc, f'{acc*100:.2f}%', ha='center', va='bottom')\n",
        "\n",
        "plt.show()"
      ],
      "metadata": {
        "id": "nLYqHtD8k6eg",
        "colab": {
          "base_uri": "https://localhost:8080/",
          "height": 472
        },
        "outputId": "a0a75896-4950-4864-ea3a-2a87bde22f69"
      },
      "execution_count": null,
      "outputs": [
        {
          "output_type": "display_data",
          "data": {
            "text/plain": [
              "<Figure size 640x480 with 1 Axes>"
            ],
            "image/png": "[encoded data removed]"
          },
          "metadata": {}
        }
      ]
    },
    {
      "cell_type": "code",
      "source": [],
      "metadata": {
        "id": "uMom0nKvk6hR"
      },
      "execution_count": null,
      "outputs": []
    }
  ],
  "metadata": {
    "colab": {
      "provenance": []
    },
    "kernelspec": {
      "display_name": "Python 3",
      "name": "python3"
    },
    "language_info": {
      "name": "python"
    }
  },
  "nbformat": 4,
  "nbformat_minor": 0
}